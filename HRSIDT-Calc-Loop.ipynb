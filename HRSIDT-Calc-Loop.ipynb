{
 "cells": [
  {
   "cell_type": "markdown",
   "id": "d11d705a-7631-456c-abd1-3a39a27c8700",
   "metadata": {},
   "source": [
    "# **MEF Metric Calculator - Looped**\n",
    "## **High Resolution Sea Ice Diagsnostics Toolset**\n",
    " Cameron Carver - University of Cape Town - Jan 2025\n",
    "\n",
    "This script produces a single netcdf file that includes the MEF metric data for all defined models listed.<br>\n",
    "Model data is accessed through Pangeo then preprocesssed through xmip and reprojected using xesmf.<br>\n",
    "The MEF metric is then calculated accordingly and saved to a single netcdf file."
   ]
  },
  {
   "cell_type": "markdown",
   "id": "e87d2ae0-d2e5-411b-9963-0cab523a9ca6",
   "metadata": {},
   "source": [
    "### 1. Import all relevant packages"
   ]
  },
  {
   "cell_type": "code",
   "execution_count": 1,
   "id": "6c11dfcc-a5fd-4bfb-bc8f-c0b0e9e127e8",
   "metadata": {},
   "outputs": [],
   "source": [
    "import os  \n",
    "# os.chdir('') # User can provide root directory information here to simplify directory path definitions elsewhere \n",
    "import warnings\n",
    "import copy\n",
    "import time\n",
    "import matplotlib.pyplot as plt\n",
    "import xarray as xr\n",
    "import xesmf as xe\n",
    "from clisops.core.subset import subset_bbox  # For subsetting\n",
    "import numpy as np\n",
    "import matplotlib.colors as mcolors\n",
    "from mpl_toolkits.basemap import Basemap\n",
    "import intake\n",
    "from xmip.preprocessing import combined_preprocessing\n",
    "from xmip.utils import google_cmip_col\n",
    "from xmip.postprocessing import match_metrics"
   ]
  },
  {
   "cell_type": "markdown",
   "id": "62d45d1c-df10-471b-b895-6ae0cfd320cb",
   "metadata": {},
   "source": [
    "### 2. Import Reference Dataset\n",
    "Import the ancillary file of the observational data. <br>\n",
    "Data Access https://nsidc.org/data/g02202/versions/4 <br>\n",
    "Ancillary File: https://noaadata.apps.nsidc.org/NOAA/G02202_V4/ancillary/<br>\n",
    "Provides the reference grid of which model data will be reprojected onto.<br>\n",
    "\n",
    "Define landmask from ancillary file"
   ]
  },
  {
   "cell_type": "code",
   "execution_count": 2,
   "id": "0c1edb26-5024-452f-81cb-8a0bdffc2684",
   "metadata": {},
   "outputs": [],
   "source": [
    "access_ref_data = 'OBSERVATIONS/SICONC/G02202-cdr-ancillary-sh.nc' # Define location of locally stored grid reference file\n",
    "ref_ds = xr.open_dataset(access_ref_data)\n",
    "\n",
    "mask = xr.where(ref_ds.landmask > 0, float('nan'), 1)"
   ]
  },
  {
   "cell_type": "markdown",
   "id": "0f8bc287-29fd-475a-8cf9-c2c87bff7052",
   "metadata": {},
   "source": [
    "### 3. Import Observational Data\n",
    "Import the monthly observational data. <br>\n",
    "Data Access https://nsidc.org/data/g02202/versions/4 <br>\n",
    "Monthly Data https://noaadata.apps.nsidc.org/NOAA/G02202_V4/south/monthly/ <br>\n",
    "Monthyl data was combined into a single NetCDF file along the time dimension.\n",
    "#### Comparing model data to this data will be used to generate the MEF metric.\n",
    "The data is sliced to a 36 year period of Dec 1978 - Nov 2014. <br>\n",
    "All flagged values are masked out.<br>\n",
    "Observational values of less than 15 are removed.<br>\n",
    "Any instances where ice is observed for <= 20 occurances throughout the 432 months are masked out. <br>\n",
    "\n",
    "The temporal mean is defined for all points on the grid."
   ]
  },
  {
   "cell_type": "code",
   "execution_count": 3,
   "id": "6770634b-7d01-4abb-ae3f-aae58ae47e6b",
   "metadata": {},
   "outputs": [],
   "source": [
    "access_obs_data='OBSERVATIONS/SICONC/seaice_conc_monthly_sh_n07_v04r00_all.nc' # Define location of locally stored observational reference dataset\n",
    "obs_ds = xr.open_dataset(access_obs_data)                   # Open dataset\n",
    "obs_ds = obs_ds.sel(tdim=slice('1978-12','2014-11'))  # Time slice of data\n",
    "obs_da = obs_ds.cdr_seaice_conc_monthly                     # Select desired variable\n",
    "\n",
    "obs_da = obs_da.where(obs_da <= 2.51, other=float('nan'))   # Set all flagged values to nan\n",
    "count = obs_da.where(obs_da>0).count('tdim') # Count number of measurements present at each given point over entire time series\n",
    "mincount = xr.where(count <= 20, float('nan'), 1) #Identify at which points less than 20 observational datapoints exist\n",
    "obs_da = obs_da * mincount # If less than 20 obs then mask out\n",
    "   \n",
    "o_mean = obs_da.mean(dim='tdim')       # Temporal mean of observational product"
   ]
  },
  {
   "cell_type": "markdown",
   "id": "92a8731d-273e-4078-b8d6-141ca6ec8f9c",
   "metadata": {},
   "source": [
    "### 3b. Varations\n",
    "Uncomment the line of the respective variation mask of interest. <br>This isolates the observational datasets to produce MEF values for the gridpoints with the specified range of observed values.<br> \n",
    "**L15**:  Exclude [0,15] <br>\n",
    "**ZERO**: Isolate 0 <br>\n",
    "**I015**: Isolate (0,15]<br>\n",
    "**I1580**: Isolate (15,80]<br>\n",
    "**I80100**: Isolate (80,100]<br>"
   ]
  },
  {
   "cell_type": "code",
   "execution_count": 4,
   "id": "b29b51ff-ec59-4b96-97f9-dbf336497ee0",
   "metadata": {},
   "outputs": [],
   "source": [
    "## When excluding values, mean must be taken afterwards\n",
    "# obs_da = obs_da.where(obs_da > 0.15, other=float('nan'))                    #Exclude (-inf,15]           L15\n",
    "# obs_da = obs_da.where(obs_da == 0, other=float('nan'))                      # Only values = 0%           ZERO\n",
    "# obs_da = obs_da.where((obs_da > 0) & (obs_da <= 0.15), other=float('nan'))  # Only values = 0-15%        I015\n",
    "# obs_da = obs_da.where((obs_da > 0.15) & (obs_da <= 0.8), other=float('nan'))# Only values = 15-80%       I1580\n",
    "# obs_da = obs_da.where((obs_da > 0.80) & (obs_da <= 1), other=float('nan'))  # only values = 80-100%      I80100"
   ]
  },
  {
   "cell_type": "markdown",
   "id": "d341070f-0bf5-4f11-9377-97a7fdb9076a",
   "metadata": {},
   "source": [
    "### 4a. Define all CMIP models of interest\n",
    "Comment/uncomment desired list of models to call"
   ]
  },
  {
   "cell_type": "code",
   "execution_count": 5,
   "id": "d56421f5-aa79-4163-acbe-6a399581639a",
   "metadata": {},
   "outputs": [],
   "source": [
    "# # Historical CMIP Models\n",
    "# mods = [\n",
    "# 'GFDL-CM4',        #GOOD\n",
    "#  # 'IPSL-CM6A-LR',      #CRASH X\n",
    "#  'MIROC6',         #GOOD\n",
    "#  'SAM0-UNICON',    #GOOD\n",
    "#  'CanESM5',        #GOOD\n",
    "#  'MPI-ESM-1-2-HAM',#GOOD\n",
    "#  'NESM3',          #GOOD\n",
    "#  'CAMS-CSM1-0',    #GOOD\n",
    "#  # 'MPI-ESM1-2-HR',     #CRASH \n",
    "#  'MPI-ESM1-2-LR',  #GOOD\n",
    "#  'GFDL-ESM4',      #GOOD\n",
    "#  'NorESM2-LM',     #GOOD\n",
    "#  'MRI-ESM2-0',     #GOOD* double lat/lon warning\n",
    "#  'FGOALS-f3-L',    #GOOD* lat/lon warning w/xmip\n",
    "#  'NorESM2-MM',     #GOOD\n",
    "#  'FIO-ESM-2-0',    #GOOD\n",
    "#  'BCC-CSM2-MR',    #GOOD\n",
    "#  'BCC-ESM1',       #GOOD\n",
    "#  'CMCC-CM2-SR5',   #GOOD\n",
    "#  # 'EC-Earth3-AerChem',  #CRASH\n",
    "#  'TaiESM1',        #GOOD\n",
    "#  'NorCPM1',        #GOOD\n",
    "#  # 'IPSL-CM5A2-INCA',   #CRASH X\n",
    "#  'ACCESS-ESM1-5',  #GOOD\n",
    "#  'ACCESS-CM2',     #GOOD\n",
    "#  # 'CMCC-CM2-HR4',      #CRASH X\n",
    "#  # 'EC-Earth3',         #CRASH X\n",
    "#  # 'EC-Earth3-Veg-LR',  #CRASH\n",
    "#  # 'EC-Earth3-Veg',     #NOT IN CAT1\n",
    "#  'CAS-ESM2-0',      #GOOD\n",
    "#  'FGOALS-g3',       #GOOD\n",
    "#  # 'EC-Earth3-CC',      #CRASH\n",
    "#  'CMCC-ESM2',       #GOOD\n",
    "#  # 'IPSL-CM6A-LR-INCA'  #CRASH\n",
    "# ]"
   ]
  },
  {
   "cell_type": "markdown",
   "id": "b6f72a71-f145-4f93-9672-6316693f7de5",
   "metadata": {},
   "source": [
    "### 4b. Define all HighResMIP models of interest"
   ]
  },
  {
   "cell_type": "code",
   "execution_count": 6,
   "id": "a5821d21-9747-4822-b1f8-f89cf6e784df",
   "metadata": {},
   "outputs": [],
   "source": [
    "# HighResMIP Model List CAT1\n",
    "mods = [\n",
    "    'CMCC-CM2-HR4',    #GOOD\n",
    "    'CMCC-CM2-VHR4',   #GOOD\n",
    "    'HadGEM3-GC31-HM', #GOOD\n",
    "    'HadGEM3-GC31-LL', #GOOD\n",
    "    'HadGEM3-GC31-MM', #GOOD\n",
    "    # 'CESM1-CAM5-SE-HR', #failed to load\n",
    "    # 'CESM1-CAM5-SE-LR', #failed to load\n",
    "    # 'HadGEM3-GC31-HH', #CRASH\n",
    "    'GFDL-CM4C192', ]  #GOOD"
   ]
  },
  {
   "cell_type": "markdown",
   "id": "d119bc2c-b1b4-4dcf-a6ab-b70ce0e55f0b",
   "metadata": {},
   "source": [
    "### 5. Define Pangeo Catalog to call\n",
    "Comment/uncomment lines to swap catalogs"
   ]
  },
  {
   "cell_type": "code",
   "execution_count": 7,
   "id": "e5e94c17-5370-4cfd-b667-ba3400a083ee",
   "metadata": {},
   "outputs": [],
   "source": [
    "url = \"https://storage.googleapis.com/cmip6/cmip6-pgf-ingestion-test/catalog/catalog.json\" # Only stores that pass current tests\n",
    "# url = \"https://storage.googleapis.com/cmip6/cmip6-pgf-ingestion-test/catalog/catalog_noqc.json\" # Only stores that fail current tests\n",
    "# url = \"https://storage.googleapis.com/cmip6/cmip6-pgf-ingestion-test/catalog/catalog_retracted.json\" # Only stores that have been retracted by ESGF\n",
    "cmip6 = intake.open_esm_datastore(url)    ## HighResMIP catalogs, must uncomment one of above\n",
    "\n",
    "# cmip6 = google_cmip_col()"
   ]
  },
  {
   "cell_type": "markdown",
   "id": "1edda0f0-05e2-4673-b8e7-4e2332dd226a",
   "metadata": {},
   "source": [
    "### 6. Call list of models from catalog"
   ]
  },
  {
   "cell_type": "code",
   "execution_count": 8,
   "id": "4ad51eed-6dcc-4f16-a928-07c955a78c33",
   "metadata": {},
   "outputs": [
    {
     "data": {
      "text/html": [
       "<div>\n",
       "<style scoped>\n",
       "    .dataframe tbody tr th:only-of-type {\n",
       "        vertical-align: middle;\n",
       "    }\n",
       "\n",
       "    .dataframe tbody tr th {\n",
       "        vertical-align: top;\n",
       "    }\n",
       "\n",
       "    .dataframe thead th {\n",
       "        text-align: right;\n",
       "    }\n",
       "</style>\n",
       "<table border=\"1\" class=\"dataframe\">\n",
       "  <thead>\n",
       "    <tr style=\"text-align: right;\">\n",
       "      <th></th>\n",
       "      <th>activity_id</th>\n",
       "      <th>institution_id</th>\n",
       "      <th>source_id</th>\n",
       "      <th>experiment_id</th>\n",
       "      <th>member_id</th>\n",
       "      <th>table_id</th>\n",
       "      <th>variable_id</th>\n",
       "      <th>grid_label</th>\n",
       "      <th>sub_experiment_id</th>\n",
       "      <th>variant_label</th>\n",
       "      <th>version</th>\n",
       "      <th>zstore</th>\n",
       "    </tr>\n",
       "  </thead>\n",
       "  <tbody>\n",
       "    <tr>\n",
       "      <th>0</th>\n",
       "      <td>HighResMIP</td>\n",
       "      <td>CMCC</td>\n",
       "      <td>CMCC-CM2-VHR4</td>\n",
       "      <td>hist-1950</td>\n",
       "      <td>r1i1p1f1</td>\n",
       "      <td>SImon</td>\n",
       "      <td>siconc</td>\n",
       "      <td>gn</td>\n",
       "      <td>none</td>\n",
       "      <td>r1i1p1f1</td>\n",
       "      <td>v20200917</td>\n",
       "      <td>gs://cmip6/cmip6-pgf-ingestion-test/zarr_store...</td>\n",
       "    </tr>\n",
       "    <tr>\n",
       "      <th>1</th>\n",
       "      <td>HighResMIP</td>\n",
       "      <td>CMCC</td>\n",
       "      <td>CMCC-CM2-HR4</td>\n",
       "      <td>hist-1950</td>\n",
       "      <td>r1i1p1f1</td>\n",
       "      <td>SImon</td>\n",
       "      <td>siconc</td>\n",
       "      <td>gn</td>\n",
       "      <td>none</td>\n",
       "      <td>r1i1p1f1</td>\n",
       "      <td>v20200917</td>\n",
       "      <td>gs://cmip6/cmip6-pgf-ingestion-test/zarr_store...</td>\n",
       "    </tr>\n",
       "    <tr>\n",
       "      <th>2</th>\n",
       "      <td>HighResMIP</td>\n",
       "      <td>MOHC</td>\n",
       "      <td>HadGEM3-GC31-HM</td>\n",
       "      <td>hist-1950</td>\n",
       "      <td>r1i1p1f1</td>\n",
       "      <td>SImon</td>\n",
       "      <td>siconc</td>\n",
       "      <td>gn</td>\n",
       "      <td>none</td>\n",
       "      <td>r1i1p1f1</td>\n",
       "      <td>v20180730</td>\n",
       "      <td>gs://cmip6/cmip6-pgf-ingestion-test/zarr_store...</td>\n",
       "    </tr>\n",
       "    <tr>\n",
       "      <th>3</th>\n",
       "      <td>HighResMIP</td>\n",
       "      <td>MOHC</td>\n",
       "      <td>HadGEM3-GC31-LL</td>\n",
       "      <td>hist-1950</td>\n",
       "      <td>r1i1p1f1</td>\n",
       "      <td>SImon</td>\n",
       "      <td>siconc</td>\n",
       "      <td>gn</td>\n",
       "      <td>none</td>\n",
       "      <td>r1i1p1f1</td>\n",
       "      <td>v20170921</td>\n",
       "      <td>gs://cmip6/cmip6-pgf-ingestion-test/zarr_store...</td>\n",
       "    </tr>\n",
       "    <tr>\n",
       "      <th>4</th>\n",
       "      <td>HighResMIP</td>\n",
       "      <td>MOHC</td>\n",
       "      <td>HadGEM3-GC31-MM</td>\n",
       "      <td>hist-1950</td>\n",
       "      <td>r1i1p1f1</td>\n",
       "      <td>SImon</td>\n",
       "      <td>siconc</td>\n",
       "      <td>gn</td>\n",
       "      <td>none</td>\n",
       "      <td>r1i1p1f1</td>\n",
       "      <td>v20170928</td>\n",
       "      <td>gs://cmip6/cmip6-pgf-ingestion-test/zarr_store...</td>\n",
       "    </tr>\n",
       "    <tr>\n",
       "      <th>5</th>\n",
       "      <td>HighResMIP</td>\n",
       "      <td>NOAA-GFDL</td>\n",
       "      <td>GFDL-CM4C192</td>\n",
       "      <td>hist-1950</td>\n",
       "      <td>r1i1p1f1</td>\n",
       "      <td>SImon</td>\n",
       "      <td>siconc</td>\n",
       "      <td>gn</td>\n",
       "      <td>none</td>\n",
       "      <td>r1i1p1f1</td>\n",
       "      <td>v20180701</td>\n",
       "      <td>gs://cmip6/CMIP6/HighResMIP/NOAA-GFDL/GFDL-CM4...</td>\n",
       "    </tr>\n",
       "  </tbody>\n",
       "</table>\n",
       "</div>"
      ],
      "text/plain": [
       "  activity_id institution_id        source_id experiment_id member_id  \\\n",
       "0  HighResMIP           CMCC    CMCC-CM2-VHR4     hist-1950  r1i1p1f1   \n",
       "1  HighResMIP           CMCC     CMCC-CM2-HR4     hist-1950  r1i1p1f1   \n",
       "2  HighResMIP           MOHC  HadGEM3-GC31-HM     hist-1950  r1i1p1f1   \n",
       "3  HighResMIP           MOHC  HadGEM3-GC31-LL     hist-1950  r1i1p1f1   \n",
       "4  HighResMIP           MOHC  HadGEM3-GC31-MM     hist-1950  r1i1p1f1   \n",
       "5  HighResMIP      NOAA-GFDL     GFDL-CM4C192     hist-1950  r1i1p1f1   \n",
       "\n",
       "  table_id variable_id grid_label sub_experiment_id variant_label    version  \\\n",
       "0    SImon      siconc         gn              none      r1i1p1f1  v20200917   \n",
       "1    SImon      siconc         gn              none      r1i1p1f1  v20200917   \n",
       "2    SImon      siconc         gn              none      r1i1p1f1  v20180730   \n",
       "3    SImon      siconc         gn              none      r1i1p1f1  v20170921   \n",
       "4    SImon      siconc         gn              none      r1i1p1f1  v20170928   \n",
       "5    SImon      siconc         gn              none      r1i1p1f1  v20180701   \n",
       "\n",
       "                                              zstore  \n",
       "0  gs://cmip6/cmip6-pgf-ingestion-test/zarr_store...  \n",
       "1  gs://cmip6/cmip6-pgf-ingestion-test/zarr_store...  \n",
       "2  gs://cmip6/cmip6-pgf-ingestion-test/zarr_store...  \n",
       "3  gs://cmip6/cmip6-pgf-ingestion-test/zarr_store...  \n",
       "4  gs://cmip6/cmip6-pgf-ingestion-test/zarr_store...  \n",
       "5  gs://cmip6/CMIP6/HighResMIP/NOAA-GFDL/GFDL-CM4...  "
      ]
     },
     "execution_count": 8,
     "metadata": {},
     "output_type": "execute_result"
    }
   ],
   "source": [
    "# get the list of CMIP6 historical simulations with variable siconc\n",
    "cat = cmip6.search(\n",
    "    source_id=mods[:],\n",
    "    variable_id='siconc', \n",
    "    table_id='SImon',\n",
    "    # experiment_id='historical', # Uncomment for historical CMIP Models\n",
    "    activity_id='HighResMIP',  # Uncomment for HighResMIP Models\n",
    "    member_id='r1i1p1f1',\n",
    "    grid_label='gn'\n",
    ")\n",
    "cat.df"
   ]
  },
  {
   "cell_type": "markdown",
   "id": "c5da5e0c-2acb-4e96-98bc-665e0e62a799",
   "metadata": {},
   "source": [
    " ### 7. Preprocess all called models\n",
    " Preprocesesed with xMIP - https://cmip6-preprocessing.readthedocs.io/en/latest/?badge=latest"
   ]
  },
  {
   "cell_type": "code",
   "execution_count": 9,
   "id": "159ab8a0-f828-4db2-8d27-f82299dc3bc0",
   "metadata": {},
   "outputs": [
    {
     "name": "stdout",
     "output_type": "stream",
     "text": [
      "\n",
      "--> The keys in the returned dictionary of datasets are constructed as follows:\n",
      "\t'activity_id.institution_id.source_id.experiment_id.table_id.grid_label'\n"
     ]
    },
    {
     "data": {
      "text/html": [
       "\n",
       "<style>\n",
       "    /* Turns off some styling */\n",
       "    progress {\n",
       "        /* gets rid of default border in Firefox and Opera. */\n",
       "        border: none;\n",
       "        /* Needs to be in here for Safari polyfill so background images work as expected. */\n",
       "        background-size: auto;\n",
       "    }\n",
       "    progress:not([value]), progress:not([value])::-webkit-progress-bar {\n",
       "        background: repeating-linear-gradient(45deg, #7e7e7e, #7e7e7e 10px, #5c5c5c 10px, #5c5c5c 20px);\n",
       "    }\n",
       "    .progress-bar-interrupted, .progress-bar-interrupted::-webkit-progress-bar {\n",
       "        background: #F44336;\n",
       "    }\n",
       "</style>\n"
      ],
      "text/plain": [
       "<IPython.core.display.HTML object>"
      ]
     },
     "metadata": {},
     "output_type": "display_data"
    },
    {
     "data": {
      "text/html": [
       "\n",
       "    <div>\n",
       "      <progress value='6' class='' max='6' style='width:300px; height:20px; vertical-align: middle;'></progress>\n",
       "      100.00% [6/6 00:37&lt;00:00]\n",
       "    </div>\n",
       "    "
      ],
      "text/plain": [
       "<IPython.core.display.HTML object>"
      ]
     },
     "metadata": {},
     "output_type": "display_data"
    }
   ],
   "source": [
    "ddict = cat.to_dataset_dict(\n",
    "    preprocess=combined_preprocessing,\n",
    "    xarray_open_kwargs={'use_cftime':True},\n",
    ")"
   ]
  },
  {
   "cell_type": "markdown",
   "id": "597ac52e-fc78-4db7-9615-4bce4b8cce87",
   "metadata": {},
   "source": [
    "### 8. List all models that have been preprocessed"
   ]
  },
  {
   "cell_type": "code",
   "execution_count": 10,
   "id": "6b8b3a2d-d10b-429c-8745-3d4292b3478b",
   "metadata": {},
   "outputs": [
    {
     "name": "stdout",
     "output_type": "stream",
     "text": [
      "6 Models Found\n"
     ]
    },
    {
     "data": {
      "text/plain": [
       "['HighResMIP.CMCC.CMCC-CM2-VHR4.hist-1950.SImon.gn',\n",
       " 'HighResMIP.CMCC.CMCC-CM2-HR4.hist-1950.SImon.gn',\n",
       " 'HighResMIP.MOHC.HadGEM3-GC31-LL.hist-1950.SImon.gn',\n",
       " 'HighResMIP.MOHC.HadGEM3-GC31-HM.hist-1950.SImon.gn',\n",
       " 'HighResMIP.MOHC.HadGEM3-GC31-MM.hist-1950.SImon.gn',\n",
       " 'HighResMIP.NOAA-GFDL.GFDL-CM4C192.hist-1950.SImon.gn']"
      ]
     },
     "execution_count": 10,
     "metadata": {},
     "output_type": "execute_result"
    }
   ],
   "source": [
    "# list of preprocessed models\n",
    "mlist = list(ddict.keys())\n",
    "lct = len(mlist)\n",
    "print(f'{lct} Models Found')\n",
    "mlist"
   ]
  },
  {
   "cell_type": "markdown",
   "id": "35d22dad-d665-4a83-bef1-e043ca9b9986",
   "metadata": {},
   "source": [
    "### 9. Reproject and calculate MEF Metric\n",
    "For each model reproject onto reference grid using xESMF (https://pavics-sdi.readthedocs.io/en/latest/notebooks/regridding.html) <br>\n",
    "Using the reprojected data calculate the MEF Metric<br>\n",
    "    - Annual temporal mean<br>\n",
    "    - Seasonal temporal mean<br>\n",
    "    - Monthly temporal mean<br>\n",
    "    - Time serues of spatial mean<br>\n",
    "All metrics for a model are saved to a dataset then each of those datasets combined into a single compiled dataset."
   ]
  },
  {
   "cell_type": "code",
   "execution_count": 11,
   "id": "c1ffe19b-87a3-4cf8-bc2f-b8734171f680",
   "metadata": {},
   "outputs": [
    {
     "name": "stdout",
     "output_type": "stream",
     "text": [
      "Completed 1 of 6\n",
      "Completed 2 of 6\n",
      "Completed 3 of 6\n",
      "Completed 4 of 6\n",
      "Completed 5 of 6\n",
      "Completed 6 of 6\n",
      "Done!\n",
      "Total time taken: 188.12 seconds\n"
     ]
    },
    {
     "name": "stderr",
     "output_type": "stream",
     "text": [
      "/opt/anaconda3/envs/pangeo/lib/python3.12/site-packages/dask/core.py:133: RuntimeWarning: invalid value encountered in divide\n",
      "  return func(*(_execute_task(a, cache) for a in args))\n",
      "/opt/anaconda3/envs/pangeo/lib/python3.12/site-packages/dask/core.py:133: RuntimeWarning: invalid value encountered in divide\n",
      "  return func(*(_execute_task(a, cache) for a in args))\n",
      "/opt/anaconda3/envs/pangeo/lib/python3.12/site-packages/dask/core.py:133: RuntimeWarning: invalid value encountered in divide\n",
      "  return func(*(_execute_task(a, cache) for a in args))\n",
      "/opt/anaconda3/envs/pangeo/lib/python3.12/site-packages/dask/core.py:133: RuntimeWarning: invalid value encountered in divide\n",
      "  return func(*(_execute_task(a, cache) for a in args))\n",
      "/opt/anaconda3/envs/pangeo/lib/python3.12/site-packages/dask/core.py:133: RuntimeWarning: invalid value encountered in divide\n",
      "  return func(*(_execute_task(a, cache) for a in args))\n",
      "/opt/anaconda3/envs/pangeo/lib/python3.12/site-packages/dask/core.py:133: RuntimeWarning: invalid value encountered in divide\n",
      "  return func(*(_execute_task(a, cache) for a in args))\n",
      "/opt/anaconda3/envs/pangeo/lib/python3.12/site-packages/dask/core.py:133: RuntimeWarning: invalid value encountered in divide\n",
      "  return func(*(_execute_task(a, cache) for a in args))\n"
     ]
    }
   ],
   "source": [
    "s_time = time.time()\n",
    "source_id=[]\n",
    "for k in range(0,lct,1):\n",
    "    name = mlist[k].split('.')\n",
    "    mod_id = name[2]\n",
    "    source_id.append(mod_id)\n",
    "\n",
    "MEF=[]\n",
    "for j in range(0,lct,1):\n",
    "    # %% Import Model Data (SOURCE)\n",
    "    model_ds = ddict[mlist[j]]\n",
    "    model_ds = model_ds.sel(time=slice('1978-12','2014-11'))  # Time slice of data\n",
    "    model_ds['siconc'] = model_ds['siconc'].where(model_ds['siconc'] <= 100, other=float('nan'))   # Set all flagged values to nan\n",
    "    dims_to_keep = ['time', 'y', 'x','vertex','bnds']  # Dimensions to be kept\n",
    "    model_ds = model_ds.squeeze(dim=[dim for dim in model_ds.dims if dim not in dims_to_keep])\n",
    "    model = source_id[j]\n",
    "\n",
    "    # %% TARGET - REFERENCE\n",
    "    # Visualization of input data and its corresponding grid\n",
    "    bbox = dict(lon_bnds=[-180, 180], lat_bnds=[-80, -50])\n",
    "    ds_tgt = subset_bbox(ref_ds, **bbox)\n",
    "\n",
    "    reg_bil = xe.Regridder(model_ds, ds_tgt, \"bilinear\", periodic=True,)\n",
    "    warnings.filterwarnings(\"ignore\", category=FutureWarning)\n",
    "\n",
    "    # Apply the regridding weights to the input sea ice concentration data\n",
    "    sic_bil = reg_bil(model_ds.siconc)\n",
    "    model_rp = xr.Dataset({\"siconc\": sic_bil})\n",
    "\n",
    "    # Overlay land mask from observational ancillary file\n",
    "    tct = model_rp.coords['time'].size\n",
    "    for i in range(0,tct,1):\n",
    "        model_rp.siconc[i,:,:] = model_rp.siconc[i,:,:]*mask\n",
    "\n",
    "    model_ds = model_rp.assign_coords(time=obs_ds['time'])  # Set time coords of model ds to be the same as the obs ds\n",
    "    model_ds = model_ds.swap_dims({'tdim': 'time'})\n",
    "    model_ds = model_ds.swap_dims({'time': 'tdim'})\n",
    "    model_da = model_ds.siconc / 100    # Select desired variable and scale to match obs scale of 0-1\n",
    "\n",
    "    # MEF - ANNUAL\n",
    "    MEF_num = (obs_da-model_da) ** 2       # cell-wise RMSD\n",
    "    MEF_num = MEF_num.sum(dim=['tdim'])    # Temporal sum of cell-wise RMSD\n",
    "    MEF_den = (obs_da-o_mean) ** 2         # cell-wise SD\n",
    "    MEF_den = MEF_den.sum(dim='tdim')      # Temporal sum of cell-wise SD\n",
    "    MEF_a = (1 - (MEF_num/MEF_den))\n",
    "\n",
    "    # MEF - MONTHLY\n",
    "    MEF_num = (obs_da-model_da) ** 2        # cell-wise RMSD\n",
    "    MEF_num = MEF_num.groupby('time.month').sum(dim=['tdim'])    # Temporal mean of cell-wise RMSD\n",
    "    MEF_den = (obs_da-o_mean) ** 2          # cell-wise SD\n",
    "    MEF_den = MEF_den.groupby('time.month').sum(dim='tdim')      # Temporal mean of cell-wise SD\n",
    "    MEF_m = (1 - (MEF_num/MEF_den))\n",
    "\n",
    "    # MEF - SEASONAL\n",
    "    MEF_num = (obs_da-model_da) ** 2        # cell-wise RMSD\n",
    "    MEF_num = MEF_num.groupby('time.season').sum(dim=['tdim'])    # Temporal mean of cell-wise RMSD\n",
    "    MEF_den = (obs_da-o_mean) ** 2          # cell-wise SD\n",
    "    MEF_den = MEF_den.groupby('time.season').sum(dim='tdim')      # Temporal mean of cell-wise SD\n",
    "    MEF_s = (1 - (MEF_num/MEF_den))\n",
    "\n",
    "    # MEF - BINNED\n",
    "    MEF_num = (obs_da-model_da) ** 2\n",
    "    MEF_num = MEF_num.sum(dim=['x','y'])\n",
    "    MEF_den = (obs_da-o_mean) ** 2 \n",
    "    MEF_den = MEF_den.sum(dim=['x','y'])\n",
    "    MEF_b = (1 - (MEF_num/MEF_den))\n",
    "\n",
    "    dataset = xr.Dataset({'MEF_a': MEF_a, 'MEF_s': MEF_s, 'MEF_m': MEF_m, \n",
    "                          'MEF_b': MEF_b, 'model_name': model})\n",
    "   \n",
    "    MEF.append(dataset)\n",
    "    print(f\"Completed {j + 1} of {lct}\")\n",
    "\n",
    "combined_ds = xr.concat(MEF, dim='models', coords='minimal')\n",
    "e_time = time.time(); t_time = e_time - s_time\n",
    "print('Done!')\n",
    "print(f\"Total time taken: {t_time:.2f} seconds\")"
   ]
  },
  {
   "cell_type": "markdown",
   "id": "057158f7-0f74-4559-bee7-4f97ca4e8fae",
   "metadata": {},
   "source": [
    "### 10. Export Dataset\n",
    "Export cumulative dataset to defined path and name."
   ]
  },
  {
   "cell_type": "code",
   "execution_count": 12,
   "id": "d8fbd78f-a5b6-4c97-aa9f-5726776b4660",
   "metadata": {},
   "outputs": [
    {
     "name": "stdout",
     "output_type": "stream",
     "text": [
      "Initiated\n"
     ]
    },
    {
     "name": "stderr",
     "output_type": "stream",
     "text": [
      "/opt/anaconda3/envs/pangeo/lib/python3.12/site-packages/dask/core.py:133: RuntimeWarning: invalid value encountered in divide\n",
      "  return func(*(_execute_task(a, cache) for a in args))\n",
      "/opt/anaconda3/envs/pangeo/lib/python3.12/site-packages/dask/core.py:133: RuntimeWarning: invalid value encountered in divide\n",
      "  return func(*(_execute_task(a, cache) for a in args))\n",
      "/opt/anaconda3/envs/pangeo/lib/python3.12/site-packages/dask/core.py:133: RuntimeWarning: invalid value encountered in divide\n",
      "  return func(*(_execute_task(a, cache) for a in args))\n",
      "/opt/anaconda3/envs/pangeo/lib/python3.12/site-packages/dask/core.py:133: RuntimeWarning: invalid value encountered in divide\n",
      "  return func(*(_execute_task(a, cache) for a in args))\n",
      "/opt/anaconda3/envs/pangeo/lib/python3.12/site-packages/dask/core.py:133: RuntimeWarning: invalid value encountered in divide\n",
      "  return func(*(_execute_task(a, cache) for a in args))\n",
      "/opt/anaconda3/envs/pangeo/lib/python3.12/site-packages/dask/core.py:133: RuntimeWarning: invalid value encountered in divide\n",
      "  return func(*(_execute_task(a, cache) for a in args))\n"
     ]
    },
    {
     "name": "stdout",
     "output_type": "stream",
     "text": [
      "Done!\n",
      "Total time taken: 375.94 seconds\n",
      "Frozen({'models': 6, 'y': 332, 'x': 316, 'season': 4, 'month': 12, 'tdim': 432})\n"
     ]
    },
    {
     "name": "stderr",
     "output_type": "stream",
     "text": [
      "/opt/anaconda3/envs/pangeo/lib/python3.12/site-packages/dask/core.py:133: RuntimeWarning: invalid value encountered in divide\n",
      "  return func(*(_execute_task(a, cache) for a in args))\n",
      "/opt/anaconda3/envs/pangeo/lib/python3.12/site-packages/dask/core.py:133: RuntimeWarning: invalid value encountered in divide\n",
      "  return func(*(_execute_task(a, cache) for a in args))\n"
     ]
    }
   ],
   "source": [
    "s_time = time.time()\n",
    "print('Initiated')\n",
    "\n",
    "# combined_ds.to_netcdf(f'CMIP-MEF/CMIP-{lct}-MEF_DEF.nc')\n",
    "combined_ds.to_netcdf(f'HRMIP-MEF/HRMIP-{lct}-MEF_I80100.nc')\n",
    "\n",
    "e_time = time.time(); t_time = e_time - s_time\n",
    "print('Done!')\n",
    "print(f\"Total time taken: {t_time:.2f} seconds\")\n",
    "print(combined_ds.sizes)"
   ]
  },
  {
   "cell_type": "code",
   "execution_count": null,
   "id": "9e4d3a5d-4606-4f32-a7c1-c3920cf13162",
   "metadata": {},
   "outputs": [],
   "source": []
  }
 ],
 "metadata": {
  "kernelspec": {
   "display_name": "Python [conda env:pangeo] *",
   "language": "python",
   "name": "conda-env-pangeo-py"
  },
  "language_info": {
   "codemirror_mode": {
    "name": "ipython",
    "version": 3
   },
   "file_extension": ".py",
   "mimetype": "text/x-python",
   "name": "python",
   "nbconvert_exporter": "python",
   "pygments_lexer": "ipython3",
   "version": "3.12.7"
  }
 },
 "nbformat": 4,
 "nbformat_minor": 5
}
